{
 "cells": [
  {
   "cell_type": "markdown",
   "metadata": {},
   "source": [
    "1. Create the below pattern using nested for loop in Python.\n",
    "\n",
    "        *\n",
    "        **\n",
    "        ***\n",
    "        ****\n",
    "        *****\n",
    "        ****\n",
    "        ***\n",
    "        **\n",
    "        *"
   ]
  },
  {
   "cell_type": "code",
   "execution_count": 41,
   "metadata": {},
   "outputs": [
    {
     "name": "stdout",
     "output_type": "stream",
     "text": [
      "*\n",
      "**\n",
      "***\n",
      "****\n",
      "*****\n",
      "****\n",
      "***\n",
      "**\n",
      "*\n"
     ]
    }
   ],
   "source": [
    "# Using nested for loops\n",
    "\n",
    "T = []\n",
    "for j in list1:\n",
    "    for x in range(1,6):\n",
    "        T.append(x*'*')\n",
    "    print (T[j-1])"
   ]
  },
  {
   "cell_type": "markdown",
   "metadata": {},
   "source": [
    "Some other solutions"
   ]
  },
  {
   "cell_type": "code",
   "execution_count": 31,
   "metadata": {},
   "outputs": [
    {
     "name": "stdout",
     "output_type": "stream",
     "text": [
      "*\n",
      "**\n",
      "***\n",
      "****\n",
      "*****\n",
      "****\n",
      "***\n",
      "**\n",
      "*\n"
     ]
    }
   ],
   "source": [
    "A = [x*'*' for x in range(1,6)]\n",
    "list1 = [1,2,3,4,5,4,3,2,1]\n",
    "\n",
    "for j in list1:\n",
    "    print (A[j-1])\n"
   ]
  },
  {
   "cell_type": "code",
   "execution_count": 26,
   "metadata": {},
   "outputs": [
    {
     "name": "stdout",
     "output_type": "stream",
     "text": [
      "*\n",
      "**\n",
      "***\n",
      "****\n",
      "*****\n",
      "****\n",
      "***\n",
      "**\n",
      "*\n"
     ]
    }
   ],
   "source": [
    "D = {1: '*',\n",
    "     2: '**',\n",
    "     3: '***',\n",
    "     4: '****',\n",
    "     5: '*****'}\n",
    "list1 = [1,2,3,4,5,4,3,2,1]\n",
    "\n",
    "for i in list1:\n",
    "    print(D[i])"
   ]
  },
  {
   "cell_type": "markdown",
   "metadata": {},
   "source": [
    "2. Write a Python program to reverse a word after accepting the input from the user.\n",
    " \n",
    "   Sample Output:\n",
    "   \n",
    "   Input word: ineuron\n",
    "   \n",
    "   Output: norueni"
   ]
  },
  {
   "cell_type": "code",
   "execution_count": 42,
   "metadata": {},
   "outputs": [
    {
     "name": "stdout",
     "output_type": "stream",
     "text": [
      "Enter Word to reverse: ineuron\n",
      "norueni\n"
     ]
    }
   ],
   "source": [
    "user_input = input('Enter Word to reverse: ')\n",
    "\n",
    "print(user_input[ : :-1])"
   ]
  },
  {
   "cell_type": "code",
   "execution_count": null,
   "metadata": {},
   "outputs": [],
   "source": []
  }
 ],
 "metadata": {
  "kernelspec": {
   "display_name": "Python 3",
   "language": "python",
   "name": "python3"
  },
  "language_info": {
   "codemirror_mode": {
    "name": "ipython",
    "version": 3
   },
   "file_extension": ".py",
   "mimetype": "text/x-python",
   "name": "python",
   "nbconvert_exporter": "python",
   "pygments_lexer": "ipython3",
   "version": "3.8.3"
  }
 },
 "nbformat": 4,
 "nbformat_minor": 4
}
